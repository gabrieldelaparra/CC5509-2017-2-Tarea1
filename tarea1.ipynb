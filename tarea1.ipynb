{
 "cells": [
  {
   "cell_type": "code",
   "execution_count": 153,
   "metadata": {
    "collapsed": true
   },
   "outputs": [],
   "source": [
    "import numpy as np\n",
    "import math\n",
    "from scipy import ndimage, signal\n",
    "from skimage import io, morphology, filters, segmentation, measure, color\n",
    "from matplotlib import pyplot as plt, patches\n",
    "%matplotlib inline"
   ]
  },
  {
   "cell_type": "markdown",
   "metadata": {},
   "source": [
    "# Test Instance"
   ]
  },
  {
   "cell_type": "code",
   "execution_count": 2,
   "metadata": {
    "collapsed": true
   },
   "outputs": [],
   "source": [
    "imageFilename = \"./test-images/rut_1.png\""
   ]
  },
  {
   "cell_type": "code",
   "execution_count": 3,
   "metadata": {
    "collapsed": true
   },
   "outputs": [],
   "source": [
    "image=io.imread(imageFilename)"
   ]
  },
  {
   "cell_type": "markdown",
   "metadata": {},
   "source": [
    "## Original Image"
   ]
  },
  {
   "cell_type": "code",
   "execution_count": 4,
   "metadata": {
    "scrolled": true
   },
   "outputs": [
    {
     "data": {
      "image/png": "[encoded data removed]",
      "text/plain": [
       "<matplotlib.figure.Figure at 0xab3acc0>"
      ]
     },
     "metadata": {},
     "output_type": "display_data"
    }
   ],
   "source": [
    "plt.imshow(image,cmap='gray')\n",
    "plt.show()"
   ]
  },
  {
   "cell_type": "markdown",
   "metadata": {},
   "source": [
    "## Apply Threshold"
   ]
  },
  {
   "cell_type": "code",
   "execution_count": 5,
   "metadata": {},
   "outputs": [
    {
     "data": {
      "image/png": "[encoded data removed]",
      "text/plain": [
       "<matplotlib.figure.Figure at 0xadceb38>"
      ]
     },
     "metadata": {},
     "output_type": "display_data"
    }
   ],
   "source": [
    "th=filters.threshold_otsu(image*0.95)\n",
    "im_bin = image > th\n",
    "plt.imshow(im_bin, cmap='gray')\n",
    "plt.show()"
   ]
  },
  {
   "cell_type": "markdown",
   "metadata": {},
   "source": [
    "## Get image labels and regions"
   ]
  },
  {
   "cell_type": "code",
   "execution_count": 6,
   "metadata": {
    "collapsed": true
   },
   "outputs": [],
   "source": [
    "mlabels, nlabels = morphology.label(1-im_bin, connectivity=1, return_num=True)\n",
    "regions = measure.regionprops(mlabels)"
   ]
  },
  {
   "cell_type": "markdown",
   "metadata": {},
   "source": [
    "## Draw rectangles around regions"
   ]
  },
  {
   "cell_type": "code",
   "execution_count": 7,
   "metadata": {},
   "outputs": [
    {
     "data": {
      "image/png": "[encoded data removed]",
      "text/plain": [
       "<matplotlib.figure.Figure at 0xae428d0>"
      ]
     },
     "metadata": {},
     "output_type": "display_data"
    }
   ],
   "source": [
    "fig, ax = plt.subplots()\n",
    "ax.imshow(im_bin,cmap='gray')\n",
    "\n",
    "for i in range(nlabels):\n",
    "    x, y, w, h = regions[i].bbox\n",
    "    rect = patches.Rectangle((y, x), h - y, w - x,\n",
    "                             fill=False, edgecolor='red', linewidth=2)\n",
    "    ax.add_patch(rect)\n",
    "    \n",
    "plt.show()"
   ]
  },
  {
   "cell_type": "markdown",
   "metadata": {},
   "source": [
    "## Calculate region Area"
   ]
  },
  {
   "cell_type": "code",
   "execution_count": 21,
   "metadata": {
    "collapsed": true
   },
   "outputs": [],
   "source": [
    "def getSliceTupleArea(sliceTuple):\n",
    "    return (sliceTuple[0].stop - sliceTuple[0].start) * (sliceTuple[1].stop - sliceTuple[1].start)"
   ]
  },
  {
   "cell_type": "markdown",
   "metadata": {},
   "source": [
    "## Inspect region areas"
   ]
  },
  {
   "cell_type": "code",
   "execution_count": 34,
   "metadata": {
    "scrolled": true
   },
   "outputs": [
    {
     "name": "stdout",
     "output_type": "stream",
     "text": [
      "region 0 = 84\n",
      "region 1 = 140\n",
      "region 2 = 4\n",
      "region 3 = 126\n",
      "region 4 = 135\n",
      "region 5 = 150\n",
      "region 6 = 4\n",
      "region 7 = 150\n",
      "region 8 = 150\n",
      "region 9 = 75\n",
      "region 10 = 10\n",
      "region 11 = 165\n"
     ]
    }
   ],
   "source": [
    "roiList = []\n",
    "for i in range(1, nlabels + 1):\n",
    "    px, py = ndimage.find_objects(mlabels==i)[0]\n",
    "    roiList.append((px,py))\n",
    "    \n",
    "sortedRoi = sorted(roiList, key= lambda x: x[1])\n",
    "\n",
    "for i in range(len(sortedRoi)):\n",
    "    print(\"region\", i, \"=\", getSliceTupleArea(sortedRoi[i]))\n"
   ]
  },
  {
   "cell_type": "markdown",
   "metadata": {},
   "source": [
    "## Ploting individually"
   ]
  },
  {
   "cell_type": "code",
   "execution_count": 11,
   "metadata": {},
   "outputs": [
    {
     "data": {
      "image/png": "[encoded data removed]",
      "text/plain": [
       "<matplotlib.figure.Figure at 0xaf4cb00>"
      ]
     },
     "metadata": {},
     "output_type": "display_data"
    }
   ],
   "source": [
    "plt.figure(figsize=(20,10))\n",
    "columns = 6\n",
    "for i in range(1, nlabels + 1):\n",
    "    px, py = ndimage.find_objects(mlabels==i)[0]\n",
    "    roi = im_bin[px, py]\n",
    "    roi = np.pad(roi, 2, mode='constant', constant_values=1)\n",
    "    plt.subplot(nlabels / columns + 1, columns, i)\n",
    "    plt.imshow(roi, cmap=\"gray\")"
   ]
  },
  {
   "cell_type": "markdown",
   "metadata": {},
   "source": [
    "## Sorting"
   ]
  },
  {
   "cell_type": "code",
   "execution_count": 31,
   "metadata": {
    "scrolled": true
   },
   "outputs": [
    {
     "data": {
      "image/png": "[encoded data removed]",
      "text/plain": [
       "<matplotlib.figure.Figure at 0xb2f37b8>"
      ]
     },
     "metadata": {},
     "output_type": "display_data"
    }
   ],
   "source": [
    "plt.figure(figsize=(20,10))\n",
    "columns = 5\n",
    "i = 0\n",
    "for j in range(nlabels):\n",
    "    (px, py) = sortedRoi[j]\n",
    "    if(getSliceTupleArea((px,py))>10):\n",
    "        roi = im_bin[px, py]\n",
    "        roi = np.pad(roi, 2, mode='constant', constant_values=1)\n",
    "        plt.subplot(nlabels / columns + 1, columns, i+1)\n",
    "        plt.imshow(roi, cmap=\"gray\")\n",
    "        i = i + 1"
   ]
  },
  {
   "cell_type": "markdown",
   "metadata": {},
   "source": [
    "## From Image to regions"
   ]
  },
  {
   "cell_type": "code",
   "execution_count": 86,
   "metadata": {
    "collapsed": true
   },
   "outputs": [],
   "source": [
    "def getImageDigits(imageFilename):\n",
    "    digits = []\n",
    "    #Read\n",
    "    image=io.imread(imageFilename)\n",
    "    \n",
    "    #Threshold\n",
    "    th=filters.threshold_otsu(image*0.95)\n",
    "    im_bin = image > th\n",
    "    \n",
    "    #Regions:\n",
    "    mlabels, nlabels = morphology.label(1-im_bin, connectivity=1, return_num=True)\n",
    "    regions = measure.regionprops(mlabels)\n",
    "    \n",
    "    #Regions of Interest\n",
    "    roiList = []\n",
    "    for i in range(1, nlabels + 1):\n",
    "        px, py = ndimage.find_objects(mlabels==i)[0]\n",
    "        roiList.append((px,py))\n",
    "        \n",
    "    #Sort regions by position:\n",
    "    sortedRoi = sorted(roiList, key= lambda x: x[1])\n",
    "    \n",
    "    # Filter small Regions, Pad results:\n",
    "    for j in range(nlabels):\n",
    "        (px, py) = sortedRoi[j]\n",
    "        if(getSliceTupleArea((px,py))>15):\n",
    "            roi = im_bin[px, py]\n",
    "            roi = np.pad(roi, 2, mode='constant', constant_values=1)\n",
    "            digits.append(roi)\n",
    "    \n",
    "    #return\n",
    "    return digits"
   ]
  },
  {
   "cell_type": "markdown",
   "metadata": {},
   "source": [
    "## Plot Digits"
   ]
  },
  {
   "cell_type": "code",
   "execution_count": 91,
   "metadata": {
    "collapsed": true
   },
   "outputs": [],
   "source": [
    "def plotDigits(digits):\n",
    "    plt.figure(figsize=(20,10))\n",
    "    columns = 10\n",
    "    i = 0\n",
    "    for digit in digits:\n",
    "        plt.subplot(len(digits) / columns + 1, columns, i+1)\n",
    "        plt.imshow(digit, cmap=\"gray\")\n",
    "        i = i + 1"
   ]
  },
  {
   "cell_type": "markdown",
   "metadata": {},
   "source": [
    "## Test on samples"
   ]
  },
  {
   "cell_type": "code",
   "execution_count": 92,
   "metadata": {
    "scrolled": true
   },
   "outputs": [
    {
     "data": {
      "image/png": "[encoded data removed]",
      "text/plain": [
       "<matplotlib.figure.Figure at 0xba51198>"
      ]
     },
     "metadata": {},
     "output_type": "display_data"
    }
   ],
   "source": [
    "plotDigits(getImageDigits(\"./test-images/rut_2.png\"))"
   ]
  },
  {
   "cell_type": "code",
   "execution_count": 93,
   "metadata": {
    "scrolled": true
   },
   "outputs": [
    {
     "data": {
      "image/png": "[encoded data removed]",
      "text/plain": [
       "<matplotlib.figure.Figure at 0xb4aac18>"
      ]
     },
     "metadata": {},
     "output_type": "display_data"
    }
   ],
   "source": [
    "plotDigits(getImageDigits(\"./test-images/rut_3.png\"))"
   ]
  },
  {
   "cell_type": "code",
   "execution_count": 94,
   "metadata": {},
   "outputs": [
    {
     "data": {
      "image/png": "[encoded data removed]",
      "text/plain": [
       "<matplotlib.figure.Figure at 0xb5800b8>"
      ]
     },
     "metadata": {},
     "output_type": "display_data"
    }
   ],
   "source": [
    "plotDigits(getImageDigits(\"./test-images/rut_4.png\"))"
   ]
  },
  {
   "cell_type": "markdown",
   "metadata": {},
   "source": [
    "# Inspect Training Set"
   ]
  },
  {
   "cell_type": "code",
   "execution_count": 37,
   "metadata": {
    "collapsed": true
   },
   "outputs": [],
   "source": [
    "sampleCeroFilename = \"./digits/0/dig_0_100.png\"\n",
    "sampleCero=io.imread(sampleCeroFilename)"
   ]
  },
  {
   "cell_type": "code",
   "execution_count": 144,
   "metadata": {},
   "outputs": [
    {
     "data": {
      "text/plain": [
       "array([[255, 255, 255,   0, 255, 255, 255, 255, 255, 255,   0, 255, 255],\n",
       "       [255, 255,   0,   0,   0,   0,   0,   0,   0,   0,   0, 255, 255],\n",
       "       [255,   0,   0,   0,   0,   0,   0,   0,   0,   0,   0,   0, 255],\n",
       "       [255,   0,   0,   0,   0, 255, 255, 255,   0,   0,   0,   0, 255],\n",
       "       [255,   0,   0,   0, 255, 255, 255, 255, 255,   0,   0,   0,   0],\n",
       "       [255,   0,   0,   0, 255, 255, 255, 255, 255,   0,   0,   0,   0],\n",
       "       [255,   0,   0,   0, 255, 255, 255, 255, 255, 255,   0,   0,   0],\n",
       "       [  0,   0,   0,   0, 255, 255, 255, 255, 255, 255,   0,   0,   0],\n",
       "       [  0,   0,   0,   0, 255, 255, 255, 255, 255, 255,   0,   0,   0],\n",
       "       [  0,   0,   0,   0, 255, 255, 255, 255, 255, 255,   0,   0,   0],\n",
       "       [  0,   0,   0,   0, 255, 255, 255, 255, 255, 255,   0,   0,   0],\n",
       "       [  0,   0,   0,   0, 255, 255, 255, 255, 255, 255,   0,   0,   0],\n",
       "       [  0,   0,   0,   0, 255, 255, 255, 255, 255,   0,   0,   0,   0],\n",
       "       [  0,   0,   0,   0, 255, 255, 255, 255, 255,   0,   0,   0,   0],\n",
       "       [  0,   0,   0,   0, 255, 255, 255, 255, 255,   0,   0,   0,   0],\n",
       "       [255,   0,   0,   0,   0, 255, 255, 255,   0,   0,   0,   0, 255],\n",
       "       [255,   0,   0,   0,   0,   0,   0,   0,   0,   0,   0,   0, 255],\n",
       "       [255,   0,   0,   0,   0,   0,   0,   0,   0,   0,   0,   0, 255],\n",
       "       [255, 255, 255, 255,   0,   0,   0,   0,   0,   0, 255, 255, 255]], dtype=uint8)"
      ]
     },
     "execution_count": 144,
     "metadata": {},
     "output_type": "execute_result"
    }
   ],
   "source": [
    "sampleCero"
   ]
  },
  {
   "cell_type": "code",
   "execution_count": 38,
   "metadata": {
    "scrolled": true
   },
   "outputs": [
    {
     "data": {
      "image/png": "[encoded data removed]",
      "text/plain": [
       "<matplotlib.figure.Figure at 0xaf75cf8>"
      ]
     },
     "metadata": {},
     "output_type": "display_data"
    }
   ],
   "source": [
    "plt.imshow(sampleCero,cmap='gray')\n",
    "plt.show()"
   ]
  },
  {
   "cell_type": "code",
   "execution_count": 157,
   "metadata": {
    "collapsed": true
   },
   "outputs": [],
   "source": [
    "maskX = [[-1, 0, 1]]\n",
    "maskY = [[-1], [0], [1]]"
   ]
  },
  {
   "cell_type": "code",
   "execution_count": 171,
   "metadata": {},
   "outputs": [],
   "source": [
    "gradX = signal.convolve(sampleCero, maskX, mode = 'same')\n",
    "gradY = signal.convolve(sampleCero, maskY, mode = 'same')"
   ]
  },
  {
   "cell_type": "markdown",
   "metadata": {},
   "source": [
    "## Gradientes: Prewitt, Sobel y Manual"
   ]
  },
  {
   "cell_type": "code",
   "execution_count": 172,
   "metadata": {
    "collapsed": true
   },
   "outputs": [],
   "source": [
    "prewittH = filters.prewitt_h(sampleCero)\n",
    "prewittV = filters.prewitt_v(sampleCero)\n",
    "sobelH = filters.sobel_h(sampleCero)\n",
    "sobelV = filters.sobel_v(sampleCero)"
   ]
  },
  {
   "cell_type": "code",
   "execution_count": 173,
   "metadata": {
    "scrolled": false
   },
   "outputs": [
    {
     "data": {
      "image/png": "[encoded data removed]",
      "text/plain": [
       "<matplotlib.figure.Figure at 0xb517320>"
      ]
     },
     "metadata": {},
     "output_type": "display_data"
    }
   ],
   "source": [
    "fig = plt.figure(figsize=(10,17))\n",
    "\n",
    "ax = plt.subplot(3, 2, 1)\n",
    "ax.set_title(\"prewittH\")\n",
    "ax.imshow(prewittH, cmap=\"gray\")\n",
    "\n",
    "ax = plt.subplot(3, 2, 2)\n",
    "ax.set_title(\"prewittV\")\n",
    "ax.imshow(prewittV, cmap=\"gray\")\n",
    "\n",
    "ax = plt.subplot(3,2, 3)\n",
    "ax.set_title(\"sobelH\")\n",
    "ax.imshow(sobelH, cmap=\"gray\")\n",
    "\n",
    "ax = plt.subplot(3, 2, 4)\n",
    "ax.set_title(\"sobelV\")\n",
    "ax.imshow(sobelV, cmap=\"gray\")\n",
    "\n",
    "ax = plt.subplot(3, 2, 5)\n",
    "ax.set_title(\"manualV\")\n",
    "ax.imshow(gradY, cmap=\"gray\")\n",
    "\n",
    "ax = plt.subplot(3, 2, 6)\n",
    "ax.set_title(\"manualV\")\n",
    "ax.imshow(gradX, cmap=\"gray\")\n",
    "\n",
    "plt.show()"
   ]
  },
  {
   "cell_type": "markdown",
   "metadata": {},
   "source": [
    "## Magnitudes y Orientaciones"
   ]
  },
  {
   "cell_type": "code",
   "execution_count": 176,
   "metadata": {},
   "outputs": [],
   "source": [
    "orientPrewitt = np.arctan2(prewittV, prewittH)\n",
    "orientSobel = np.arctan2(sobelV, sobelH)\n",
    "orientManual = np.arctan2(gradY, gradX)\n",
    "\n",
    "magPrewitt = np.sqrt(prewittV**2 + prewittH**2)\n",
    "magSobel = np.sqrt(sobelV**2 + sobelH**2)\n",
    "magManual = np.sqrt(gradY**2 + gradX**2)"
   ]
  },
  {
   "cell_type": "code",
   "execution_count": null,
   "metadata": {
    "collapsed": true
   },
   "outputs": [],
   "source": []
  },
  {
   "cell_type": "code",
   "execution_count": 130,
   "metadata": {},
   "outputs": [
    {
     "data": {
      "text/plain": [
       "array([[ 0.        ,  0.        ,  0.        ,  0.        ,  0.        ,\n",
       "         0.        ,  0.        ,  0.        ,  0.        ,  0.        ,\n",
       "         0.        ,  0.        ,  0.        ],\n",
       "       [ 0.        , -2.35619449, -2.35619449,  3.14159265,  2.67794504,\n",
       "         3.14159265,  3.14159265,  3.14159265,  3.14159265, -2.67794504,\n",
       "         2.67794504,  1.89254688,  0.        ],\n",
       "       [ 0.        , -1.89254688, -2.35619449,  0.        ,  0.78539816,\n",
       "         0.46364761,  0.        , -0.46364761, -0.78539816,  0.        ,\n",
       "         2.35619449,  1.89254688,  0.        ],\n",
       "       [ 0.        , -1.57079633,  0.        ,  0.78539816,  0.78539816,\n",
       "         0.32175055,  0.        , -0.32175055, -0.78539816, -0.78539816,\n",
       "         0.        ,  2.03444394,  0.        ],\n",
       "       [ 0.        , -1.57079633,  0.        ,  1.10714872,  1.24904577,\n",
       "         0.78539816,  3.14159265, -0.78539816, -1.24904577, -1.10714872,\n",
       "         0.        ,  2.35619449,  0.        ],\n",
       "       [ 0.        , -1.57079633,  0.        ,  1.57079633,  1.57079633,\n",
       "         3.14159265,  3.14159265,  3.14159265, -1.10714872, -1.24904577,\n",
       "        -0.78539816,  0.        ,  0.        ],\n",
       "       [ 0.        , -2.03444394,  0.        ,  1.57079633,  1.57079633,\n",
       "         3.14159265,  3.14159265,  3.14159265, -0.78539816, -1.24904577,\n",
       "        -1.10714872,  0.        ,  0.        ],\n",
       "       [ 0.        , -2.35619449,  0.        ,  1.57079633,  1.57079633,\n",
       "         3.14159265,  3.14159265,  3.14159265,  3.14159265, -1.57079633,\n",
       "        -1.57079633,  0.        ,  0.        ],\n",
       "       [ 0.        ,  0.        ,  0.        ,  1.57079633,  1.57079633,\n",
       "         3.14159265,  3.14159265,  3.14159265,  3.14159265, -1.57079633,\n",
       "        -1.57079633,  0.        ,  0.        ],\n",
       "       [ 0.        ,  0.        ,  0.        ,  1.57079633,  1.57079633,\n",
       "         3.14159265,  3.14159265,  3.14159265,  3.14159265, -1.57079633,\n",
       "        -1.57079633,  0.        ,  0.        ],\n",
       "       [ 0.        ,  0.        ,  0.        ,  1.57079633,  1.57079633,\n",
       "         3.14159265,  3.14159265,  3.14159265,  3.14159265, -1.57079633,\n",
       "        -1.57079633,  0.        ,  0.        ],\n",
       "       [ 0.        ,  0.        ,  0.        ,  1.57079633,  1.57079633,\n",
       "         3.14159265,  3.14159265,  3.14159265, -2.35619449, -1.89254688,\n",
       "        -2.03444394,  0.        ,  0.        ],\n",
       "       [ 0.        ,  0.        ,  0.        ,  1.57079633,  1.57079633,\n",
       "         3.14159265,  3.14159265,  3.14159265, -2.03444394, -1.89254688,\n",
       "        -2.35619449,  0.        ,  0.        ],\n",
       "       [ 0.        ,  0.        ,  0.        ,  1.57079633,  1.57079633,\n",
       "         3.14159265,  3.14159265,  3.14159265, -1.57079633, -1.57079633,\n",
       "         0.        ,  0.        ,  0.        ],\n",
       "       [ 0.        , -0.78539816,  0.        ,  2.03444394,  1.89254688,\n",
       "         2.35619449,  3.14159265, -2.35619449, -1.89254688, -2.03444394,\n",
       "         0.        ,  0.78539816,  0.        ],\n",
       "       [ 0.        , -1.10714872,  0.        ,  2.35619449,  2.35619449,\n",
       "         2.8198421 ,  3.14159265, -2.8198421 , -2.35619449, -2.35619449,\n",
       "         0.        ,  1.10714872,  0.        ],\n",
       "       [ 0.        , -1.57079633,  0.        ,  0.        ,  2.35619449,\n",
       "         2.67794504,  3.14159265, -2.67794504, -2.35619449,  0.        ,\n",
       "         0.        ,  1.57079633,  0.        ],\n",
       "       [ 0.        , -0.78539816,  0.        , -0.46364761, -0.78539816,\n",
       "         0.        ,  0.        ,  0.        ,  0.        ,  0.78539816,\n",
       "         0.46364761,  0.78539816,  0.        ],\n",
       "       [ 0.        ,  0.        ,  0.        ,  0.        ,  0.        ,\n",
       "         0.        ,  0.        ,  0.        ,  0.        ,  0.        ,\n",
       "         0.        ,  0.        ,  0.        ]])"
      ]
     },
     "execution_count": 130,
     "metadata": {},
     "output_type": "execute_result"
    }
   ],
   "source": [
    "orientPrewitt"
   ]
  },
  {
   "cell_type": "markdown",
   "metadata": {},
   "source": [
    "## Histograma de Orientaciones"
   ]
  },
  {
   "cell_type": "code",
   "execution_count": 106,
   "metadata": {
    "scrolled": true
   },
   "outputs": [
    {
     "data": {
      "image/png": "[encoded data removed]",
      "text/plain": [
       "<matplotlib.figure.Figure at 0xb5a76d8>"
      ]
     },
     "metadata": {},
     "output_type": "display_data"
    }
   ],
   "source": [
    "hist, bins = np.histogram(orientPrewitt, bins=10)\n",
    "width = 0.7 * (bins[1] - bins[0])\n",
    "center = (bins[:-1] + bins[1:]) / 2\n",
    "plt.bar(center, hist, align='center', width=width)\n",
    "plt.show()"
   ]
  },
  {
   "cell_type": "markdown",
   "metadata": {},
   "source": [
    "## Refactor para cálculo de histograma"
   ]
  },
  {
   "cell_type": "code",
   "execution_count": 111,
   "metadata": {
    "collapsed": true
   },
   "outputs": [],
   "source": [
    "def getImageOrientations(testImageFilename):\n",
    "    sampleImage=io.imread(testImageFilename)\n",
    "    prewittH = filters.prewitt_h(sampleImage)\n",
    "    prewittV = filters.prewitt_v(sampleImage)\n",
    "    orientPrewitt = np.arctan2(prewittV, prewittH)\n",
    "    return orientPrewitt"
   ]
  },
  {
   "cell_type": "code",
   "execution_count": 112,
   "metadata": {
    "collapsed": true
   },
   "outputs": [],
   "source": [
    "def getOrientationHistogram(imageOrientations, binCount):\n",
    "    return np.histogram(imageOrientations, bins=binCount)"
   ]
  },
  {
   "cell_type": "code",
   "execution_count": 113,
   "metadata": {
    "collapsed": true
   },
   "outputs": [],
   "source": [
    "def plotOrientationsHistogram(imageOrientations, binCount):\n",
    "    hist, bins = getOrientationHistogram(imageOrientations, binCount)\n",
    "    width = 0.7 * (bins[1] - bins[0])\n",
    "    center = (bins[:-1] + bins[1:]) / 2\n",
    "    plt.bar(center, hist, align='center', width=width)\n",
    "    plt.show()"
   ]
  },
  {
   "cell_type": "markdown",
   "metadata": {},
   "source": [
    "## Test on different numbers"
   ]
  },
  {
   "cell_type": "code",
   "execution_count": 122,
   "metadata": {
    "collapsed": true
   },
   "outputs": [],
   "source": [
    "sampleDigitFilenameList =[\"./digits/0/dig_1500070685.png\",\n",
    "                    \"./digits/1/dig_1500063963.png\",\n",
    "                    \"./digits/2/dig_1500063977.png\",\n",
    "                    \"./digits/3/dig_1500063964.png\",\n",
    "                    \"./digits/4/dig_1500063982.png\",\n",
    "                    \"./digits/5/dig_1500064000.png\",\n",
    "                    \"./digits/6/dig_1500063975.png\",\n",
    "                    \"./digits/7/dig_1500064329.png\",\n",
    "                    \"./digits/8/dig_1500064008.png\",\n",
    "                    \"./digits/9/dig_1500063965.png\",\n",
    "                    \"./digits/K/dig_1500066216.png\"\n",
    "                   ]"
   ]
  },
  {
   "cell_type": "code",
   "execution_count": 129,
   "metadata": {},
   "outputs": [
    {
     "data": {
      "image/png": "[encoded data removed]",
      "text/plain": [
       "<matplotlib.figure.Figure at 0xcc2ef60>"
      ]
     },
     "metadata": {},
     "output_type": "display_data"
    }
   ],
   "source": [
    "plt.figure(figsize=(20,10))\n",
    "columns = len(sampleDigitFilenameList)\n",
    "i=1\n",
    "for sampleDigitFilename in sampleDigitFilenameList:\n",
    "    sampleDigit=io.imread(sampleDigitFilename)\n",
    "    plt.subplot(2, columns, i)\n",
    "    plt.imshow(sampleDigit, cmap=\"gray\")\n",
    "    plt.subplot(2, columns, columns+i)\n",
    "    hist, bins = getOrientationHistogram(getImageOrientations(sampleDigitFilename), 10)\n",
    "    width = 0.7 * (bins[1] - bins[0])\n",
    "    center = (bins[:-1] + bins[1:]) / 2\n",
    "    plt.bar(center, hist, align='center', width=width)\n",
    "    i = i+1"
   ]
  },
  {
   "cell_type": "code",
   "execution_count": null,
   "metadata": {
    "collapsed": true
   },
   "outputs": [],
   "source": [
    "\n",
    "i = 0\n",
    "for digit in digits:\n",
    "    plt.subplot(len(digits) / columns + 1, columns, i+1)\n",
    "    plt.imshow(digit, cmap=\"gray\")\n",
    "    i = i + 1"
   ]
  },
  {
   "cell_type": "code",
   "execution_count": 64,
   "metadata": {},
   "outputs": [
    {
     "data": {
      "image/png": "[encoded data removed]",
      "text/plain": [
       "<matplotlib.figure.Figure at 0xb7c48d0>"
      ]
     },
     "metadata": {},
     "output_type": "display_data"
    }
   ],
   "source": [
    "fig = plt.figure(figsize=(17,5))\n",
    "\n",
    "ax = plt.subplot(1, 2, 1)\n",
    "ax.set_title(\"orient. Prewitt\")\n",
    "plt.imshow(orientPrewitt, cmap=\"gray\")\n",
    "\n",
    "ax = plt.subplot(1, 2, 2)\n",
    "ax.set_title(\"orient. Prewitt\")\n",
    "plt.imshow(orientPrewitt, cmap=\"gray\")\n",
    "\n",
    "plt.show()"
   ]
  },
  {
   "cell_type": "code",
   "execution_count": 132,
   "metadata": {
    "collapsed": true
   },
   "outputs": [],
   "source": [
    "from skimage.feature import hog"
   ]
  },
  {
   "cell_type": "code",
   "execution_count": null,
   "metadata": {
    "collapsed": true
   },
   "outputs": [],
   "source": []
  }
 ],
 "metadata": {
  "kernelspec": {
   "display_name": "Python [default]",
   "language": "python",
   "name": "python3"
  },
  "language_info": {
   "codemirror_mode": {
    "name": "ipython",
    "version": 3
   },
   "file_extension": ".py",
   "mimetype": "text/x-python",
   "name": "python",
   "nbconvert_exporter": "python",
   "pygments_lexer": "ipython3",
   "version": "3.5.3"
  }
 },
 "nbformat": 4,
 "nbformat_minor": 2
}
