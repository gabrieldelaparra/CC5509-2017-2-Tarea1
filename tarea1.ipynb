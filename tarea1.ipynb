{
 "cells": [
  {
   "cell_type": "code",
   "execution_count": 153,
   "metadata": {
    "collapsed": true
   },
   "outputs": [],
   "source": [
    "import numpy as np\n",
    "import math\n",
    "from scipy import ndimage, signal\n",
    "from skimage import io, morphology, filters, segmentation, measure, color\n",
    "from matplotlib import pyplot as plt, patches\n",
    "%matplotlib inline"
   ]
  },
  {
   "cell_type": "markdown",
   "metadata": {},
   "source": [
    "# Test Instance\n",
    "Cargar una imagen para su exploración inicial."
   ]
  },
  {
   "cell_type": "code",
   "execution_count": 2,
   "metadata": {
    "collapsed": true
   },
   "outputs": [],
   "source": [
    "imageFilename = \"./test-images/rut_1.png\""
   ]
  },
  {
   "cell_type": "code",
   "execution_count": 3,
   "metadata": {
    "collapsed": true
   },
   "outputs": [],
   "source": [
    "image=io.imread(imageFilename)"
   ]
  },
  {
   "cell_type": "markdown",
   "metadata": {},
   "source": [
    "## Original Image"
   ]
  },
  {
   "cell_type": "code",
   "execution_count": 4,
   "metadata": {
    "scrolled": true
   },
   "outputs": [
    {
     "data": {
      "image/png": "[encoded data removed]",
      "text/plain": [
       "<matplotlib.figure.Figure at 0xab3acc0>"
      ]
     },
     "metadata": {},
     "output_type": "display_data"
    }
   ],
   "source": [
    "plt.imshow(image,cmap='gray')\n",
    "plt.show()"
   ]
  },
  {
   "cell_type": "markdown",
   "metadata": {},
   "source": [
    "## Apply Threshold\n",
    "\n",
    "Se aplica la función umbral para separar con claridad los dígitos del fondo."
   ]
  },
  {
   "cell_type": "code",
   "execution_count": 5,
   "metadata": {},
   "outputs": [
    {
     "data": {
      "image/png": "[encoded data removed]",
      "text/plain": [
       "<matplotlib.figure.Figure at 0xadceb38>"
      ]
     },
     "metadata": {},
     "output_type": "display_data"
    }
   ],
   "source": [
    "th=filters.threshold_otsu(image*0.95)\n",
    "im_bin = image > th\n",
    "plt.imshow(im_bin, cmap='gray')\n",
    "plt.show()"
   ]
  },
  {
   "cell_type": "markdown",
   "metadata": {},
   "source": [
    "## Get image labels and regions\n",
    "\n",
    "El método labels busca zonas continuas, con conectividad configurable, en este caso 1, para buscar zonas conexas."
   ]
  },
  {
   "cell_type": "code",
   "execution_count": 6,
   "metadata": {
    "collapsed": true
   },
   "outputs": [],
   "source": [
    "mlabels, nlabels = morphology.label(1-im_bin, connectivity=1, return_num=True)\n",
    "regions = measure.regionprops(mlabels)"
   ]
  },
  {
   "cell_type": "markdown",
   "metadata": {},
   "source": [
    "## Draw rectangles around regions\n",
    "Identificar con un rectángulo cada una de las zonas encontradas."
   ]
  },
  {
   "cell_type": "code",
   "execution_count": 7,
   "metadata": {},
   "outputs": [
    {
     "data": {
      "image/png": "[encoded data removed]",
      "text/plain": [
       "<matplotlib.figure.Figure at 0xae428d0>"
      ]
     },
     "metadata": {},
     "output_type": "display_data"
    }
   ],
   "source": [
    "fig, ax = plt.subplots()\n",
    "ax.imshow(im_bin,cmap='gray')\n",
    "\n",
    "for i in range(nlabels):\n",
    "    x, y, w, h = regions[i].bbox\n",
    "    rect = patches.Rectangle((y, x), h - y, w - x,\n",
    "                             fill=False, edgecolor='red', linewidth=2)\n",
    "    ax.add_patch(rect)\n",
    "    \n",
    "plt.show()"
   ]
  },
  {
   "cell_type": "markdown",
   "metadata": {},
   "source": [
    "## Calculate region Area\n",
    "Función auxiliar para el cálculo del área de cada región. Se utilizará posteriormente para filtrar los puntos y guiones."
   ]
  },
  {
   "cell_type": "code",
   "execution_count": 21,
   "metadata": {
    "collapsed": true
   },
   "outputs": [],
   "source": [
    "def getSliceTupleArea(sliceTuple):\n",
    "    return (sliceTuple[0].stop - sliceTuple[0].start) * (sliceTuple[1].stop - sliceTuple[1].start)"
   ]
  },
  {
   "cell_type": "markdown",
   "metadata": {},
   "source": [
    "## Inspect region areas\n",
    "\n",
    "Prueba del cálculo de áreas. Se pueden apreciar algunas zonas de 4 pixeles, correspondientes a los puntos; y una de 10, correspondiente al guión."
   ]
  },
  {
   "cell_type": "code",
   "execution_count": 34,
   "metadata": {
    "scrolled": true
   },
   "outputs": [
    {
     "name": "stdout",
     "output_type": "stream",
     "text": [
      "region 0 = 84\n",
      "region 1 = 140\n",
      "region 2 = 4\n",
      "region 3 = 126\n",
      "region 4 = 135\n",
      "region 5 = 150\n",
      "region 6 = 4\n",
      "region 7 = 150\n",
      "region 8 = 150\n",
      "region 9 = 75\n",
      "region 10 = 10\n",
      "region 11 = 165\n"
     ]
    }
   ],
   "source": [
    "roiList = []\n",
    "for i in range(1, nlabels + 1):\n",
    "    px, py = ndimage.find_objects(mlabels==i)[0]\n",
    "    roiList.append((px,py))\n",
    "    \n",
    "sortedRoi = sorted(roiList, key= lambda x: x[1])\n",
    "\n",
    "for i in range(len(sortedRoi)):\n",
    "    print(\"region\", i, \"=\", getSliceTupleArea(sortedRoi[i]))\n"
   ]
  },
  {
   "cell_type": "markdown",
   "metadata": {},
   "source": [
    "## Ploting individually\n",
    "Al plotear individualmente cada zona, se puede apreciar que el órden no queda según sus coordenadas, sino según sus coordenada en Y, empezando desde arriba. Será necesario reordenar las imágenes para que queden según su orden natural."
   ]
  },
  {
   "cell_type": "code",
   "execution_count": 11,
   "metadata": {},
   "outputs": [
    {
     "data": {
      "image/png": "[encoded data removed]",
      "text/plain": [
       "<matplotlib.figure.Figure at 0xaf4cb00>"
      ]
     },
     "metadata": {},
     "output_type": "display_data"
    }
   ],
   "source": [
    "plt.figure(figsize=(20,10))\n",
    "columns = 6\n",
    "for i in range(1, nlabels + 1):\n",
    "    px, py = ndimage.find_objects(mlabels==i)[0]\n",
    "    roi = im_bin[px, py]\n",
    "    roi = np.pad(roi, 2, mode='constant', constant_values=1)\n",
    "    plt.subplot(nlabels / columns + 1, columns, i)\n",
    "    plt.imshow(roi, cmap=\"gray\")"
   ]
  },
  {
   "cell_type": "markdown",
   "metadata": {},
   "source": [
    "## Sorting\n",
    "\n",
    "Se ordenan según la coordenada de la imagen original."
   ]
  },
  {
   "cell_type": "code",
   "execution_count": 31,
   "metadata": {
    "scrolled": true
   },
   "outputs": [
    {
     "data": {
      "image/png": "[encoded data removed]",
      "text/plain": [
       "<matplotlib.figure.Figure at 0xb2f37b8>"
      ]
     },
     "metadata": {},
     "output_type": "display_data"
    }
   ],
   "source": [
    "plt.figure(figsize=(20,10))\n",
    "columns = 5\n",
    "i = 0\n",
    "for j in range(nlabels):\n",
    "    (px, py) = sortedRoi[j]\n",
    "    if(getSliceTupleArea((px,py))>10):\n",
    "        roi = im_bin[px, py]\n",
    "        roi = np.pad(roi, 2, mode='constant', constant_values=1)\n",
    "        plt.subplot(nlabels / columns + 1, columns, i+1)\n",
    "        plt.imshow(roi, cmap=\"gray\")\n",
    "        i = i + 1"
   ]
  },
  {
   "cell_type": "markdown",
   "metadata": {},
   "source": [
    "## From Image to regions\n",
    "\n",
    "Refactor de todo lo visto anteriormente: Se lee una imagen y se extraen los dígitos."
   ]
  },
  {
   "cell_type": "code",
   "execution_count": 86,
   "metadata": {
    "collapsed": true
   },
   "outputs": [],
   "source": [
    "def getImageDigits(imageFilename):\n",
    "    digits = []\n",
    "    #Read\n",
    "    image=io.imread(imageFilename)\n",
    "    \n",
    "    #Threshold\n",
    "    th=filters.threshold_otsu(image*0.95)\n",
    "    im_bin = image > th\n",
    "    \n",
    "    #Regions:\n",
    "    mlabels, nlabels = morphology.label(1-im_bin, connectivity=1, return_num=True)\n",
    "    regions = measure.regionprops(mlabels)\n",
    "    \n",
    "    #Regions of Interest\n",
    "    roiList = []\n",
    "    for i in range(1, nlabels + 1):\n",
    "        px, py = ndimage.find_objects(mlabels==i)[0]\n",
    "        roiList.append((px,py))\n",
    "        \n",
    "    #Sort regions by position:\n",
    "    sortedRoi = sorted(roiList, key= lambda x: x[1])\n",
    "    \n",
    "    # Filter small Regions, Pad results:\n",
    "    for j in range(nlabels):\n",
    "        (px, py) = sortedRoi[j]\n",
    "        if(getSliceTupleArea((px,py))>15):\n",
    "            roi = im_bin[px, py]\n",
    "            roi = np.pad(roi, 2, mode='constant', constant_values=1)\n",
    "            digits.append(roi)\n",
    "    \n",
    "    #return\n",
    "    return digits"
   ]
  },
  {
   "cell_type": "markdown",
   "metadata": {},
   "source": [
    "## Plot Digits\n",
    "\n",
    "Método auxiliar para plotear los dígitos."
   ]
  },
  {
   "cell_type": "code",
   "execution_count": 91,
   "metadata": {
    "collapsed": true
   },
   "outputs": [],
   "source": [
    "def plotDigits(digits):\n",
    "    plt.figure(figsize=(20,10))\n",
    "    columns = 10\n",
    "    i = 0\n",
    "    for digit in digits:\n",
    "        plt.subplot(len(digits) / columns + 1, columns, i+1)\n",
    "        plt.imshow(digit, cmap=\"gray\")\n",
    "        i = i + 1"
   ]
  },
  {
   "cell_type": "markdown",
   "metadata": {},
   "source": [
    "## Test on samples\n",
    "\n",
    "Pruebas con las imágenes de muestra."
   ]
  },
  {
   "cell_type": "code",
   "execution_count": 92,
   "metadata": {
    "scrolled": true
   },
   "outputs": [
    {
     "data": {
      "image/png": "[encoded data removed]",
      "text/plain": [
       "<matplotlib.figure.Figure at 0xba51198>"
      ]
     },
     "metadata": {},
     "output_type": "display_data"
    }
   ],
   "source": [
    "plotDigits(getImageDigits(\"./test-images/rut_2.png\"))"
   ]
  },
  {
   "cell_type": "code",
   "execution_count": 93,
   "metadata": {
    "scrolled": true
   },
   "outputs": [
    {
     "data": {
      "image/png": "[encoded data removed]",
      "text/plain": [
       "<matplotlib.figure.Figure at 0xb4aac18>"
      ]
     },
     "metadata": {},
     "output_type": "display_data"
    }
   ],
   "source": [
    "plotDigits(getImageDigits(\"./test-images/rut_3.png\"))"
   ]
  },
  {
   "cell_type": "code",
   "execution_count": 94,
   "metadata": {},
   "outputs": [
    {
     "data": {
      "image/png": "[encoded data removed]",
      "text/plain": [
       "<matplotlib.figure.Figure at 0xb5800b8>"
      ]
     },
     "metadata": {},
     "output_type": "display_data"
    }
   ],
   "source": [
    "plotDigits(getImageDigits(\"./test-images/rut_4.png\"))"
   ]
  },
  {
   "cell_type": "markdown",
   "metadata": {},
   "source": [
    "# Inspect Training Set\n",
    "\n",
    "Ahora se trabajará con los dígitos de pruebas. Se realiará un análisis exploratorio para posteriomente procesar las imágenes."
   ]
  },
  {
   "cell_type": "code",
   "execution_count": 37,
   "metadata": {
    "collapsed": true
   },
   "outputs": [],
   "source": [
    "sampleCeroFilename = \"./digits/0/dig_0_100.png\"\n",
    "sampleCero=io.imread(sampleCeroFilename)"
   ]
  },
  {
   "cell_type": "code",
   "execution_count": 144,
   "metadata": {},
   "outputs": [
    {
     "data": {
      "text/plain": [
       "array([[255, 255, 255,   0, 255, 255, 255, 255, 255, 255,   0, 255, 255],\n",
       "       [255, 255,   0,   0,   0,   0,   0,   0,   0,   0,   0, 255, 255],\n",
       "       [255,   0,   0,   0,   0,   0,   0,   0,   0,   0,   0,   0, 255],\n",
       "       [255,   0,   0,   0,   0, 255, 255, 255,   0,   0,   0,   0, 255],\n",
       "       [255,   0,   0,   0, 255, 255, 255, 255, 255,   0,   0,   0,   0],\n",
       "       [255,   0,   0,   0, 255, 255, 255, 255, 255,   0,   0,   0,   0],\n",
       "       [255,   0,   0,   0, 255, 255, 255, 255, 255, 255,   0,   0,   0],\n",
       "       [  0,   0,   0,   0, 255, 255, 255, 255, 255, 255,   0,   0,   0],\n",
       "       [  0,   0,   0,   0, 255, 255, 255, 255, 255, 255,   0,   0,   0],\n",
       "       [  0,   0,   0,   0, 255, 255, 255, 255, 255, 255,   0,   0,   0],\n",
       "       [  0,   0,   0,   0, 255, 255, 255, 255, 255, 255,   0,   0,   0],\n",
       "       [  0,   0,   0,   0, 255, 255, 255, 255, 255, 255,   0,   0,   0],\n",
       "       [  0,   0,   0,   0, 255, 255, 255, 255, 255,   0,   0,   0,   0],\n",
       "       [  0,   0,   0,   0, 255, 255, 255, 255, 255,   0,   0,   0,   0],\n",
       "       [  0,   0,   0,   0, 255, 255, 255, 255, 255,   0,   0,   0,   0],\n",
       "       [255,   0,   0,   0,   0, 255, 255, 255,   0,   0,   0,   0, 255],\n",
       "       [255,   0,   0,   0,   0,   0,   0,   0,   0,   0,   0,   0, 255],\n",
       "       [255,   0,   0,   0,   0,   0,   0,   0,   0,   0,   0,   0, 255],\n",
       "       [255, 255, 255, 255,   0,   0,   0,   0,   0,   0, 255, 255, 255]], dtype=uint8)"
      ]
     },
     "execution_count": 144,
     "metadata": {},
     "output_type": "execute_result"
    }
   ],
   "source": [
    "sampleCero"
   ]
  },
  {
   "cell_type": "code",
   "execution_count": 38,
   "metadata": {
    "scrolled": true
   },
   "outputs": [
    {
     "data": {
      "image/png": "[encoded data removed]",
      "text/plain": [
       "<matplotlib.figure.Figure at 0xaf75cf8>"
      ]
     },
     "metadata": {},
     "output_type": "display_data"
    }
   ],
   "source": [
    "plt.imshow(sampleCero,cmap='gray')\n",
    "plt.show()"
   ]
  },
  {
   "cell_type": "markdown",
   "metadata": {},
   "source": [
    "## Gradientes: Prewitt, Sobel y Manual"
   ]
  },
  {
   "cell_type": "code",
   "execution_count": 172,
   "metadata": {
    "collapsed": true
   },
   "outputs": [],
   "source": [
    "prewittH = filters.prewitt_h(sampleCero)\n",
    "prewittV = filters.prewitt_v(sampleCero)\n",
    "sobelH = filters.sobel_h(sampleCero)\n",
    "sobelV = filters.sobel_v(sampleCero)"
   ]
  },
  {
   "cell_type": "code",
   "execution_count": 177,
   "metadata": {},
   "outputs": [],
   "source": [
    "maskX = [[-1, 0, 1]]\n",
    "maskY = [[-1], [0], [1]]\n",
    "gradX = signal.convolve(sampleCero, maskX, mode = 'same')\n",
    "gradY = signal.convolve(sampleCero, maskY, mode = 'same')"
   ]
  },
  {
   "cell_type": "code",
   "execution_count": 178,
   "metadata": {
    "scrolled": false
   },
   "outputs": [
    {
     "data": {
      "image/png": "[encoded data removed]",
      "text/plain": [
       "<matplotlib.figure.Figure at 0xb4d39b0>"
      ]
     },
     "metadata": {},
     "output_type": "display_data"
    }
   ],
   "source": [
    "fig = plt.figure(figsize=(10,17))\n",
    "\n",
    "ax = plt.subplot(3, 2, 1)\n",
    "ax.set_title(\"prewittH\")\n",
    "ax.imshow(prewittH, cmap=\"gray\")\n",
    "\n",
    "ax = plt.subplot(3, 2, 2)\n",
    "ax.set_title(\"prewittV\")\n",
    "ax.imshow(prewittV, cmap=\"gray\")\n",
    "\n",
    "ax = plt.subplot(3,2, 3)\n",
    "ax.set_title(\"sobelH\")\n",
    "ax.imshow(sobelH, cmap=\"gray\")\n",
    "\n",
    "ax = plt.subplot(3, 2, 4)\n",
    "ax.set_title(\"sobelV\")\n",
    "ax.imshow(sobelV, cmap=\"gray\")\n",
    "\n",
    "ax = plt.subplot(3, 2, 5)\n",
    "ax.set_title(\"manualH\")\n",
    "ax.imshow(gradY, cmap=\"gray\")\n",
    "\n",
    "ax = plt.subplot(3, 2, 6)\n",
    "ax.set_title(\"manualV\")\n",
    "ax.imshow(gradX, cmap=\"gray\")\n",
    "\n",
    "plt.show()"
   ]
  },
  {
   "cell_type": "markdown",
   "metadata": {},
   "source": [
    "## Magnitudes y Orientaciones\n",
    "Se calculan las magnitudes y orientaciones para los gradientes antes encontrados."
   ]
  },
  {
   "cell_type": "code",
   "execution_count": 199,
   "metadata": {},
   "outputs": [],
   "source": [
    "orientPrewitt = np.arctan2(prewittV, prewittH) \n",
    "orientSobel = np.arctan2(sobelV, sobelH)\n",
    "orientManual = np.arctan2(gradY, gradX)\n",
    "\n",
    "magPrewitt = np.sqrt(prewittV**2 + prewittH**2)\n",
    "magSobel = np.sqrt(sobelV**2 + sobelH**2)\n",
    "magManual = np.sqrt(gradY**2 + gradX**2)"
   ]
  },
  {
   "cell_type": "code",
   "execution_count": 200,
   "metadata": {},
   "outputs": [
    {
     "name": "stdout",
     "output_type": "stream",
     "text": [
      "max mag: 360.624458405\n",
      "max orn: 2.35619449019\n",
      "min mag: 0.0\n",
      "min orn: 0.0\n"
     ]
    }
   ],
   "source": [
    "print(\"max mag:\", np.max(magManual))\n",
    "print(\"max orn:\", np.max(orientManual))\n",
    "print(\"min mag:\", np.min(magManual))\n",
    "print(\"min orn:\", np.min(orientManual))"
   ]
  },
  {
   "cell_type": "markdown",
   "metadata": {},
   "source": [
    "## Histograma de Orientaciones: Implementación Numpy\n",
    "Este método solo contempla las orientaciones y no la magnitud. Tampoco contempla  el Hard y Soft Assignment, por lo que se descartará posteriormente, para ser implementado de forma manual."
   ]
  },
  {
   "cell_type": "code",
   "execution_count": 106,
   "metadata": {
    "scrolled": false
   },
   "outputs": [
    {
     "data": {
      "image/png": "[encoded data removed]",
      "text/plain": [
       "<matplotlib.figure.Figure at 0xb5a76d8>"
      ]
     },
     "metadata": {},
     "output_type": "display_data"
    }
   ],
   "source": [
    "hist, bins = np.histogram(orientPrewitt, bins=10)\n",
    "width = 0.7 * (bins[1] - bins[0])\n",
    "center = (bins[:-1] + bins[1:]) / 2\n",
    "plt.bar(center, hist, align='center', width=width)\n",
    "plt.show()"
   ]
  },
  {
   "cell_type": "markdown",
   "metadata": {},
   "source": [
    "## Histograma de Orientaciones: Manual"
   ]
  },
  {
   "cell_type": "code",
   "execution_count": 283,
   "metadata": {},
   "outputs": [],
   "source": [
    "def histogram(image, kBins):\n",
    "    hist = np.zeros(kBins, dtype=np.float32)\n",
    "    m, n = image.shape\n",
    "    \n",
    "    gradX = signal.convolve(image, maskX, mode = 'same')\n",
    "    gradY = signal.convolve(image, maskY, mode = 'same')\n",
    "    orientManual = (np.arctan2(gradY, gradX)  * 180 / np.pi) %360\n",
    "    magManual = np.sqrt(gradY**2 + gradX**2)\n",
    "    \n",
    "    maxVal = np.max(magManual) * np.max(orientManual)\n",
    "    \n",
    "    for i in range(m):\n",
    "        for j in range(n):\n",
    "            # Skip those with magnitude 0.\n",
    "            if(magManual[i,j] != 0):\n",
    "                calc = (orientManual[i,j] * magManual[i,j])\n",
    "                kbin = int(round(calc/maxVal*(kBins-1)))\n",
    "                hist[kbin] += 1.0\n",
    "    return hist"
   ]
  },
  {
   "cell_type": "code",
   "execution_count": 284,
   "metadata": {},
   "outputs": [],
   "source": [
    "def plotHist(histogram, kBins):\n",
    "    plt.bar(np.arange(kBins), histogram)\n",
    "    plt.show()"
   ]
  },
  {
   "cell_type": "code",
   "execution_count": 285,
   "metadata": {},
   "outputs": [
    {
     "data": {
      "image/png": "[encoded data removed]",
      "text/plain": [
       "<matplotlib.figure.Figure at 0xcc26c88>"
      ]
     },
     "metadata": {},
     "output_type": "display_data"
    }
   ],
   "source": [
    "plotHist(histogram(sampleCero,8),8)"
   ]
  },
  {
   "cell_type": "markdown",
   "metadata": {},
   "source": [
    "## Test on different numbers"
   ]
  },
  {
   "cell_type": "code",
   "execution_count": 286,
   "metadata": {
    "collapsed": true
   },
   "outputs": [],
   "source": [
    "sampleDigitFilenameList =[\"./digits/0/dig_1500070685.png\",\n",
    "                    \"./digits/1/dig_1500063963.png\",\n",
    "                    \"./digits/2/dig_1500063977.png\",\n",
    "                    \"./digits/3/dig_1500063964.png\",\n",
    "                    \"./digits/4/dig_1500063982.png\",\n",
    "                    \"./digits/5/dig_1500064000.png\",\n",
    "                    \"./digits/6/dig_1500063975.png\",\n",
    "                    \"./digits/7/dig_1500064329.png\",\n",
    "                    \"./digits/8/dig_1500064008.png\",\n",
    "                    \"./digits/9/dig_1500063965.png\",\n",
    "                    \"./digits/K/dig_1500066216.png\"\n",
    "                   ]"
   ]
  },
  {
   "cell_type": "code",
   "execution_count": 287,
   "metadata": {},
   "outputs": [
    {
     "data": {
      "image/png": "[encoded data removed]",
      "text/plain": [
       "<matplotlib.figure.Figure at 0xcf88a58>"
      ]
     },
     "metadata": {},
     "output_type": "display_data"
    }
   ],
   "source": [
    "plt.figure(figsize=(20,10))\n",
    "columns = len(sampleDigitFilenameList)\n",
    "i=1\n",
    "bins = 8\n",
    "for sampleDigitFilename in sampleDigitFilenameList:\n",
    "    sampleDigit=io.imread(sampleDigitFilename)\n",
    "    plt.subplot(2, columns, i)\n",
    "    plt.imshow(sampleDigit, cmap=\"gray\")\n",
    "    plt.subplot(2, columns, columns+i)\n",
    "    hist = histogram(sampleDigit, bins)\n",
    "    plt.bar(np.arange(bins), hist)\n",
    "    i = i+1"
   ]
  },
  {
   "cell_type": "code",
   "execution_count": null,
   "metadata": {
    "collapsed": true
   },
   "outputs": [],
   "source": [
    "\n",
    "i = 0\n",
    "for digit in digits:\n",
    "    plt.subplot(len(digits) / columns + 1, columns, i+1)\n",
    "    plt.imshow(digit, cmap=\"gray\")\n",
    "    i = i + 1"
   ]
  },
  {
   "cell_type": "code",
   "execution_count": 64,
   "metadata": {},
   "outputs": [
    {
     "data": {
      "image/png": "[encoded data removed]",
      "text/plain": [
       "<matplotlib.figure.Figure at 0xb7c48d0>"
      ]
     },
     "metadata": {},
     "output_type": "display_data"
    }
   ],
   "source": [
    "fig = plt.figure(figsize=(17,5))\n",
    "\n",
    "ax = plt.subplot(1, 2, 1)\n",
    "ax.set_title(\"orient. Prewitt\")\n",
    "plt.imshow(orientPrewitt, cmap=\"gray\")\n",
    "\n",
    "ax = plt.subplot(1, 2, 2)\n",
    "ax.set_title(\"orient. Prewitt\")\n",
    "plt.imshow(orientPrewitt, cmap=\"gray\")\n",
    "\n",
    "plt.show()"
   ]
  },
  {
   "cell_type": "code",
   "execution_count": 227,
   "metadata": {
    "collapsed": true
   },
   "outputs": [],
   "source": [
    "from skimage.feature import hog\n",
    "from skimage import data, color, exposure"
   ]
  },
  {
   "cell_type": "code",
   "execution_count": null,
   "metadata": {
    "collapsed": true
   },
   "outputs": [],
   "source": [
    "sampleCeroFilename = \"./digits/0/dig_0_100.png\"\n",
    "image=io.imread(sampleCeroFilename)"
   ]
  },
  {
   "cell_type": "code",
   "execution_count": 230,
   "metadata": {},
   "outputs": [
    {
     "ename": "TypeError",
     "evalue": "hog() got an unexpected keyword argument 'visualize'",
     "output_type": "error",
     "traceback": [
      "\u001b[1;31m---------------------------------------------------------------------------\u001b[0m",
      "\u001b[1;31mTypeError\u001b[0m                                 Traceback (most recent call last)",
      "\u001b[1;32m<ipython-input-230-0b98afcb457e>\u001b[0m in \u001b[0;36m<module>\u001b[1;34m()\u001b[0m\n\u001b[0;32m      1\u001b[0m fd, hog_image = hog(image, orientations=8, pixels_per_cell=(16, 16),\n\u001b[1;32m----> 2\u001b[1;33m                     cells_per_block=(1, 1), visualize=True)\n\u001b[0m",
      "\u001b[1;31mTypeError\u001b[0m: hog() got an unexpected keyword argument 'visualize'"
     ]
    }
   ],
   "source": [
    "fd, hog_image = hog(image, orientations=8, pixels_per_cell=(16, 16),\n",
    "                    cells_per_block=(1, 1), visualize=True)"
   ]
  },
  {
   "cell_type": "code",
   "execution_count": 231,
   "metadata": {},
   "outputs": [
    {
     "data": {
      "image/png": "[encoded data removed]",
      "text/plain": [
       "<matplotlib.figure.Figure at 0xcfb3e10>"
      ]
     },
     "metadata": {},
     "output_type": "display_data"
    }
   ],
   "source": [
    "fig, (ax1, ax2) = plt.subplots(1, 2, figsize=(8, 4), sharex=True, sharey=True)\n",
    "\n",
    "ax1.axis('off')\n",
    "ax1.imshow(image, cmap=plt.cm.gray)\n",
    "ax1.set_title('Input image')\n",
    "ax1.set_adjustable('box-forced')\n",
    "\n",
    "# Rescale histogram for better display\n",
    "hog_image_rescaled = exposure.rescale_intensity(hog_image, in_range=(0, 0.02))\n",
    "\n",
    "ax2.axis('off')\n",
    "ax2.imshow(hog_image_rescaled, cmap=plt.cm.gray)\n",
    "ax2.set_title('Histogram of Oriented Gradients')\n",
    "ax1.set_adjustable('box-forced')\n",
    "plt.show()"
   ]
  },
  {
   "cell_type": "code",
   "execution_count": null,
   "metadata": {
    "collapsed": true
   },
   "outputs": [],
   "source": []
  }
 ],
 "metadata": {
  "kernelspec": {
   "display_name": "Python [default]",
   "language": "python",
   "name": "python3"
  },
  "language_info": {
   "codemirror_mode": {
    "name": "ipython",
    "version": 3
   },
   "file_extension": ".py",
   "mimetype": "text/x-python",
   "name": "python",
   "nbconvert_exporter": "python",
   "pygments_lexer": "ipython3",
   "version": "3.5.3"
  }
 },
 "nbformat": 4,
 "nbformat_minor": 2
}
