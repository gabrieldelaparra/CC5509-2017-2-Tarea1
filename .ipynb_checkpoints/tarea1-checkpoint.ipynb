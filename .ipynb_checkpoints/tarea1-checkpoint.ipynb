{
 "cells": [
  {
   "cell_type": "code",
   "execution_count": 59,
   "metadata": {
    "collapsed": true
   },
   "outputs": [],
   "source": [
    "import numpy as np\n",
    "import math\n",
    "from scipy import ndimage\n",
    "from skimage import io, morphology, filters, segmentation, measure, color\n",
    "from matplotlib import pyplot as plt, patches\n",
    "%matplotlib inline"
   ]
  },
  {
   "cell_type": "markdown",
   "metadata": {},
   "source": [
    "# Test Instance"
   ]
  },
  {
   "cell_type": "code",
   "execution_count": 2,
   "metadata": {
    "collapsed": true
   },
   "outputs": [],
   "source": [
    "imageFilename = \"./test-images/rut_1.png\""
   ]
  },
  {
   "cell_type": "code",
   "execution_count": 3,
   "metadata": {
    "collapsed": true
   },
   "outputs": [],
   "source": [
    "image=io.imread(imageFilename)"
   ]
  },
  {
   "cell_type": "markdown",
   "metadata": {},
   "source": [
    "## Original Image"
   ]
  },
  {
   "cell_type": "code",
   "execution_count": 4,
   "metadata": {
    "scrolled": true
   },
   "outputs": [
    {
     "data": {
      "image/png": "[encoded data removed]",
      "text/plain": [
       "<matplotlib.figure.Figure at 0xab3acc0>"
      ]
     },
     "metadata": {},
     "output_type": "display_data"
    }
   ],
   "source": [
    "plt.imshow(image,cmap='gray')\n",
    "plt.show()"
   ]
  },
  {
   "cell_type": "markdown",
   "metadata": {},
   "source": [
    "## Apply Threshold"
   ]
  },
  {
   "cell_type": "code",
   "execution_count": 5,
   "metadata": {},
   "outputs": [
    {
     "data": {
      "image/png": "[encoded data removed]",
      "text/plain": [
       "<matplotlib.figure.Figure at 0xadceb38>"
      ]
     },
     "metadata": {},
     "output_type": "display_data"
    }
   ],
   "source": [
    "th=filters.threshold_otsu(image*0.95)\n",
    "im_bin = image > th\n",
    "plt.imshow(im_bin, cmap='gray')\n",
    "plt.show()"
   ]
  },
  {
   "cell_type": "markdown",
   "metadata": {},
   "source": [
    "## Get image labels and regions"
   ]
  },
  {
   "cell_type": "code",
   "execution_count": 6,
   "metadata": {
    "collapsed": true
   },
   "outputs": [],
   "source": [
    "mlabels, nlabels = morphology.label(1-im_bin, connectivity=1, return_num=True)\n",
    "regions = measure.regionprops(mlabels)"
   ]
  },
  {
   "cell_type": "markdown",
   "metadata": {},
   "source": [
    "## Draw rectangles around regions"
   ]
  },
  {
   "cell_type": "code",
   "execution_count": 7,
   "metadata": {},
   "outputs": [
    {
     "data": {
      "image/png": "[encoded data removed]",
      "text/plain": [
       "<matplotlib.figure.Figure at 0xae428d0>"
      ]
     },
     "metadata": {},
     "output_type": "display_data"
    }
   ],
   "source": [
    "fig, ax = plt.subplots()\n",
    "ax.imshow(im_bin,cmap='gray')\n",
    "\n",
    "for i in range(nlabels):\n",
    "    x, y, w, h = regions[i].bbox\n",
    "    rect = patches.Rectangle((y, x), h - y, w - x,\n",
    "                             fill=False, edgecolor='red', linewidth=2)\n",
    "    ax.add_patch(rect)\n",
    "    \n",
    "plt.show()"
   ]
  },
  {
   "cell_type": "markdown",
   "metadata": {},
   "source": [
    "## Calculate region Area"
   ]
  },
  {
   "cell_type": "code",
   "execution_count": 21,
   "metadata": {
    "collapsed": true
   },
   "outputs": [],
   "source": [
    "def getSliceTupleArea(sliceTuple):\n",
    "    return (sliceTuple[0].stop - sliceTuple[0].start) * (sliceTuple[1].stop - sliceTuple[1].start)"
   ]
  },
  {
   "cell_type": "markdown",
   "metadata": {},
   "source": [
    "## Inspect region areas"
   ]
  },
  {
   "cell_type": "code",
   "execution_count": 34,
   "metadata": {
    "scrolled": true
   },
   "outputs": [
    {
     "name": "stdout",
     "output_type": "stream",
     "text": [
      "region 0 = 84\n",
      "region 1 = 140\n",
      "region 2 = 4\n",
      "region 3 = 126\n",
      "region 4 = 135\n",
      "region 5 = 150\n",
      "region 6 = 4\n",
      "region 7 = 150\n",
      "region 8 = 150\n",
      "region 9 = 75\n",
      "region 10 = 10\n",
      "region 11 = 165\n"
     ]
    }
   ],
   "source": [
    "roiList = []\n",
    "for i in range(1, nlabels + 1):\n",
    "    px, py = ndimage.find_objects(mlabels==i)[0]\n",
    "    roiList.append((px,py))\n",
    "    \n",
    "sortedRoi = sorted(roiList, key= lambda x: x[1])\n",
    "\n",
    "for i in range(len(sortedRoi)):\n",
    "    print(\"region\", i, \"=\", getSliceTupleArea(sortedRoi[i]))\n"
   ]
  },
  {
   "cell_type": "markdown",
   "metadata": {},
   "source": [
    "## Ploting individually"
   ]
  },
  {
   "cell_type": "code",
   "execution_count": 11,
   "metadata": {},
   "outputs": [
    {
     "data": {
      "image/png": "[encoded data removed]",
      "text/plain": [
       "<matplotlib.figure.Figure at 0xaf4cb00>"
      ]
     },
     "metadata": {},
     "output_type": "display_data"
    }
   ],
   "source": [
    "plt.figure(figsize=(20,10))\n",
    "columns = 6\n",
    "for i in range(1, nlabels + 1):\n",
    "    px, py = ndimage.find_objects(mlabels==i)[0]\n",
    "    roi = im_bin[px, py]\n",
    "    roi = np.pad(roi, 2, mode='constant', constant_values=1)\n",
    "    plt.subplot(nlabels / columns + 1, columns, i)\n",
    "    plt.imshow(roi, cmap=\"gray\")"
   ]
  },
  {
   "cell_type": "markdown",
   "metadata": {},
   "source": [
    "## Sorting"
   ]
  },
  {
   "cell_type": "code",
   "execution_count": 31,
   "metadata": {
    "scrolled": true
   },
   "outputs": [
    {
     "data": {
      "image/png": "[encoded data removed]",
      "text/plain": [
       "<matplotlib.figure.Figure at 0xb2f37b8>"
      ]
     },
     "metadata": {},
     "output_type": "display_data"
    }
   ],
   "source": [
    "plt.figure(figsize=(20,10))\n",
    "columns = 5\n",
    "i = 0\n",
    "for j in range(nlabels):\n",
    "    (px, py) = sortedRoi[j]\n",
    "    if(getSliceTupleArea((px,py))>10):\n",
    "        roi = im_bin[px, py]\n",
    "        roi = np.pad(roi, 2, mode='constant', constant_values=1)\n",
    "        plt.subplot(nlabels / columns + 1, columns, i+1)\n",
    "        plt.imshow(roi, cmap=\"gray\")\n",
    "        i = i + 1"
   ]
  },
  {
   "cell_type": "markdown",
   "metadata": {},
   "source": [
    "## From Image to regions"
   ]
  },
  {
   "cell_type": "code",
   "execution_count": null,
   "metadata": {
    "collapsed": true
   },
   "outputs": [],
   "source": [
    "def getImageDigits(imageFilename):\n",
    "    \n",
    "    #Read\n",
    "    image=io.imread(imageFilename)\n",
    "    \n",
    "    #Threshold\n",
    "    th=filters.threshold_otsu(image*0.95)\n",
    "    im_bin = image > th\n",
    "    \n",
    "    #Regions:\n",
    "    mlabels, nlabels = morphology.label(1-im_bin, connectivity=1, return_num=True)\n",
    "    regions = measure.regionprops(mlabels)\n",
    "    \n",
    "    #Regions of Interest\n",
    "    roiList = []\n",
    "    for i in range(1, nlabels + 1):\n",
    "        px, py = ndimage.find_objects(mlabels==i)[0]\n",
    "        roiList.append((px,py))\n",
    "        \n",
    "    #Sort regions by position:\n",
    "    sortedRoi = sorted(roiList, key= lambda x: x[1])\n",
    "    \n",
    "    # Filter small Regions, Pad results:\n",
    "    for j in range(nlabels):\n",
    "        (px, py) = sortedRoi[j]\n",
    "        if(getSliceTupleArea((px,py))>10):\n",
    "            roi = im_bin[px, py]\n",
    "            roi = np.pad(roi, 2, mode='constant', constant_values=1)"
   ]
  },
  {
   "cell_type": "markdown",
   "metadata": {},
   "source": [
    "# Inspect Training Set"
   ]
  },
  {
   "cell_type": "code",
   "execution_count": 37,
   "metadata": {
    "collapsed": true
   },
   "outputs": [],
   "source": [
    "sampleCeroFilename = r\"C:\\Users\\clgadel\\Desktop\\DCC\\1 - 2017.02\\Patrones\\2 Tareas\\1\\digits\\0\\dig_0_100.png\"\n",
    "sampleCero=io.imread(sampleCeroFilename)"
   ]
  },
  {
   "cell_type": "code",
   "execution_count": 38,
   "metadata": {
    "scrolled": true
   },
   "outputs": [
    {
     "data": {
      "image/png": "[encoded data removed]",
      "text/plain": [
       "<matplotlib.figure.Figure at 0xaf75cf8>"
      ]
     },
     "metadata": {},
     "output_type": "display_data"
    }
   ],
   "source": [
    "plt.imshow(sampleCero,cmap='gray')\n",
    "plt.show()"
   ]
  },
  {
   "cell_type": "markdown",
   "metadata": {},
   "source": [
    "## Gradientes: Sobel y Prewitt"
   ]
  },
  {
   "cell_type": "code",
   "execution_count": 56,
   "metadata": {
    "collapsed": true
   },
   "outputs": [],
   "source": [
    "prewittH = filters.prewitt_h(sampleCero)\n",
    "prewittV = filters.prewitt_v(sampleCero)\n",
    "sobelH = filters.sobel_h(sampleCero)\n",
    "sobelV = filters.sobel_v(sampleCero)"
   ]
  },
  {
   "cell_type": "code",
   "execution_count": 62,
   "metadata": {},
   "outputs": [
    {
     "data": {
      "image/png": "[encoded data removed]",
      "text/plain": [
       "<matplotlib.figure.Figure at 0xba47ef0>"
      ]
     },
     "metadata": {},
     "output_type": "display_data"
    }
   ],
   "source": [
    "fig = plt.figure(figsize=(17,5))\n",
    "\n",
    "ax = plt.subplot(1, 4, 1)\n",
    "ax.set_title(\"prewittH\")\n",
    "plt.imshow(prewittH, cmap=\"gray\")\n",
    "\n",
    "ax = plt.subplot(1, 4, 2)\n",
    "ax.set_title(\"prewittV\")\n",
    "plt.imshow(prewittV, cmap=\"gray\")\n",
    "\n",
    "ax = plt.subplot(1, 4, 3)\n",
    "ax.set_title(\"sobelH\")\n",
    "plt.imshow(sobelH, cmap=\"gray\")\n",
    "\n",
    "ax = plt.subplot(1, 4, 4)\n",
    "ax.set_title(\"sobelV\")\n",
    "plt.imshow(sobelV, cmap=\"gray\")\n",
    "\n",
    "plt.show()"
   ]
  },
  {
   "cell_type": "markdown",
   "metadata": {},
   "source": [
    "# Orientaciones"
   ]
  },
  {
   "cell_type": "code",
   "execution_count": 61,
   "metadata": {},
   "outputs": [],
   "source": [
    "orientPrewitt = np.arctan2(prewittV, prewittH)\n",
    "orientSobel = np.arctan2(sobelV, sobelH)"
   ]
  },
  {
   "cell_type": "code",
   "execution_count": 75,
   "metadata": {
    "scrolled": false
   },
   "outputs": [
    {
     "data": {
      "image/png": "[encoded data removed]",
      "text/plain": [
       "<matplotlib.figure.Figure at 0xba1d6d8>"
      ]
     },
     "metadata": {},
     "output_type": "display_data"
    }
   ],
   "source": [
    "hist, bins = np.histogram(orientPrewitt, bins=10)\n",
    "width = 0.7 * (bins[1] - bins[0])\n",
    "center = (bins[:-1] + bins[1:]) / 2\n",
    "plt.bar(center, hist, align='center', width=width)\n",
    "plt.show()"
   ]
  },
  {
   "cell_type": "code",
   "execution_count": null,
   "metadata": {
    "collapsed": true
   },
   "outputs": [],
   "source": [
    "fig = plt.figure(figsize=(17,5))"
   ]
  },
  {
   "cell_type": "code",
   "execution_count": 64,
   "metadata": {},
   "outputs": [
    {
     "data": {
      "image/png": "[encoded data removed]",
      "text/plain": [
       "<matplotlib.figure.Figure at 0xb7c48d0>"
      ]
     },
     "metadata": {},
     "output_type": "display_data"
    }
   ],
   "source": [
    "fig = plt.figure(figsize=(17,5))\n",
    "\n",
    "ax = plt.subplot(1, 2, 1)\n",
    "ax.set_title(\"orient. Prewitt\")\n",
    "plt.imshow(orientPrewitt, cmap=\"gray\")\n",
    "\n",
    "ax = plt.subplot(1, 2, 2)\n",
    "ax.set_title(\"orient. Prewitt\")\n",
    "plt.imshow(orientPrewitt, cmap=\"gray\")\n",
    "\n",
    "plt.show()"
   ]
  },
  {
   "cell_type": "code",
   "execution_count": 17,
   "metadata": {
    "scrolled": true
   },
   "outputs": [
    {
     "data": {
      "image/png": "[encoded data removed]",
      "text/plain": [
       "<matplotlib.figure.Figure at 0xad59278>"
      ]
     },
     "metadata": {},
     "output_type": "display_data"
    }
   ],
   "source": [
    "# label image regions\n",
    "label_image = measure.label(im_bin)\n",
    "image_label_overlay = color.label2rgb(label_image, image=image)\n",
    "plt.imshow(image_label_overlay,cmap='gray')\n",
    "plt.show()"
   ]
  },
  {
   "cell_type": "code",
   "execution_count": 14,
   "metadata": {},
   "outputs": [
    {
     "name": "stdout",
     "output_type": "stream",
     "text": [
      "<skimage.measure._regionprops._RegionProperties object at 0x000000000B4E35C0>\n",
      "<skimage.measure._regionprops._RegionProperties object at 0x000000000B4E3EB8>\n",
      "<skimage.measure._regionprops._RegionProperties object at 0x000000000B4E3BE0>\n",
      "<skimage.measure._regionprops._RegionProperties object at 0x000000000B4E34E0>\n",
      "<skimage.measure._regionprops._RegionProperties object at 0x000000000B4E3D30>\n"
     ]
    }
   ],
   "source": [
    "for region in measure.regionprops(label_image):\n",
    "    print(region)"
   ]
  },
  {
   "cell_type": "code",
   "execution_count": 15,
   "metadata": {},
   "outputs": [
    {
     "ename": "NameError",
     "evalue": "name 'mpatches' is not defined",
     "output_type": "error",
     "traceback": [
      "\u001b[1;31m---------------------------------------------------------------------------\u001b[0m",
      "\u001b[1;31mNameError\u001b[0m                                 Traceback (most recent call last)",
      "\u001b[1;32m<ipython-input-15-2302a8fdfcf6>\u001b[0m in \u001b[0;36m<module>\u001b[1;34m()\u001b[0m\n\u001b[0;32m     11\u001b[0m         \u001b[1;31m# draw rectangle around segmented coins\u001b[0m\u001b[1;33m\u001b[0m\u001b[1;33m\u001b[0m\u001b[0m\n\u001b[0;32m     12\u001b[0m         \u001b[0mminr\u001b[0m\u001b[1;33m,\u001b[0m \u001b[0mminc\u001b[0m\u001b[1;33m,\u001b[0m \u001b[0mmaxr\u001b[0m\u001b[1;33m,\u001b[0m \u001b[0mmaxc\u001b[0m \u001b[1;33m=\u001b[0m \u001b[0mregion\u001b[0m\u001b[1;33m.\u001b[0m\u001b[0mbbox\u001b[0m\u001b[1;33m\u001b[0m\u001b[0m\n\u001b[1;32m---> 13\u001b[1;33m         rect = mpatches.Rectangle((minc, minr), maxc - minc, maxr - minr,\n\u001b[0m\u001b[0;32m     14\u001b[0m                                   fill=False, edgecolor='red', linewidth=2)\n\u001b[0;32m     15\u001b[0m         \u001b[0max\u001b[0m\u001b[1;33m.\u001b[0m\u001b[0madd_patch\u001b[0m\u001b[1;33m(\u001b[0m\u001b[0mrect\u001b[0m\u001b[1;33m)\u001b[0m\u001b[1;33m\u001b[0m\u001b[0m\n",
      "\u001b[1;31mNameError\u001b[0m: name 'mpatches' is not defined"
     ]
    },
    {
     "data": {
      "image/png": "[encoded data removed]",
      "text/plain": [
       "<matplotlib.figure.Figure at 0xb4e34e0>"
      ]
     },
     "metadata": {},
     "output_type": "display_data"
    }
   ],
   "source": [
    "# label image regions\n",
    "label_image = measure.label(im_bin)\n",
    "image_label_overlay = color.label2rgb(label_image, image=image)\n",
    "\n",
    "fig, ax = plt.subplots(figsize=(10, 6))\n",
    "ax.imshow(image_label_overlay)\n",
    "\n",
    "for region in measure.regionprops(label_image):\n",
    "    # take regions with large enough areas\n",
    "    if region.area >= 100:\n",
    "        # draw rectangle around segmented coins\n",
    "        minr, minc, maxr, maxc = region.bbox\n",
    "        rect = mpatches.Rectangle((minc, minr), maxc - minc, maxr - minr,\n",
    "                                  fill=False, edgecolor='red', linewidth=2)\n",
    "        ax.add_patch(rect)"
   ]
  },
  {
   "cell_type": "code",
   "execution_count": null,
   "metadata": {
    "collapsed": true
   },
   "outputs": [],
   "source": []
  }
 ],
 "metadata": {
  "kernelspec": {
   "display_name": "Python [default]",
   "language": "python",
   "name": "python3"
  },
  "language_info": {
   "codemirror_mode": {
    "name": "ipython",
    "version": 3
   },
   "file_extension": ".py",
   "mimetype": "text/x-python",
   "name": "python",
   "nbconvert_exporter": "python",
   "pygments_lexer": "ipython3",
   "version": "3.5.3"
  }
 },
 "nbformat": 4,
 "nbformat_minor": 2
}
