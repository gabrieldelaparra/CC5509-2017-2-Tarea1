{
 "cells": [
  {
   "cell_type": "code",
   "execution_count": 1,
   "metadata": {},
   "outputs": [],
   "source": [
    "//$$.html('<script src=\"https://d3js.org/d3.v4.min.js\"></script>')"
   ]
  },
  {
   "cell_type": "code",
   "execution_count": 15,
   "metadata": {},
   "outputs": [],
   "source": [
    "var jsdom = require(\"jsdom\")"
   ]
  },
  {
   "cell_type": "code",
   "execution_count": 16,
   "metadata": {
    "scrolled": true
   },
   "outputs": [],
   "source": [
    "var d3 = require(\"d3\");"
   ]
  },
  {
   "cell_type": "code",
   "execution_count": 17,
   "metadata": {
    "collapsed": true,
    "scrolled": false
   },
   "outputs": [],
   "source": [
    "//var document = jsdom.jsdom();"
   ]
  },
  {
   "cell_type": "code",
   "execution_count": 18,
   "metadata": {},
   "outputs": [
    {
     "ename": "TypeError",
     "evalue": "Identifier 'JSDOM' has already been declared",
     "output_type": "error",
     "traceback": [
      "evalmachine.<anonymous>:1",
      "var jsdom = require('jsdom');",
      "^",
      "",
      "TypeError: Identifier 'JSDOM' has already been declared",
      "    at evalmachine.<anonymous>:1:1",
      "    at ContextifyScript.Script.runInThisContext (vm.js:25:33)",
      "    at Object.runInThisContext (vm.js:97:38)",
      "    at run ([eval]:617:19)",
      "    at onRunRequest ([eval]:388:22)",
      "    at onMessage ([eval]:356:17)",
      "    at emitTwo (events.js:106:13)",
      "    at process.emit (events.js:191:7)",
      "    at process.nextTick (internal/child_process.js:758:12)",
      "    at _combinedTickCallback (internal/process/next_tick.js:73:7)"
     ]
    }
   ],
   "source": [
    "var jsdom = require('jsdom');\n",
    "const { JSDOM } = jsdom;\n",
    "\n",
    "const { document } = (new JSDOM('')).window;\n",
    "global.document = document;"
   ]
  },
  {
   "cell_type": "code",
   "execution_count": 12,
   "metadata": {},
   "outputs": [
    {
     "name": "stdout",
     "output_type": "stream",
     "text": [
      "Selection {\n",
      "  _groups: [ [ HTMLBodyElement {} ] ],\n",
      "  _parents: [ HTMLHtmlElement {} ] }\n"
     ]
    }
   ],
   "source": [
    "d3.select(\"body\")"
   ]
  },
  {
   "cell_type": "code",
   "execution_count": null,
   "metadata": {},
   "outputs": [],
   "source": [
    "var svg = d3.select(\"svg\"),\n",
    "    width = +svg.attr(\"width\"),\n",
    "    height = +svg.attr(\"height\");"
   ]
  },
  {
   "cell_type": "code",
   "execution_count": 10,
   "metadata": {},
   "outputs": [
    {
     "data": {
      "text/plain": [
       "Selection {\n",
       "  _groups: [ [ HTMLParagraphElement {} ] ],\n",
       "  _parents: [ HTMLHtmlElement {} ] }"
      ]
     },
     "execution_count": 10,
     "metadata": {},
     "output_type": "execute_result"
    }
   ],
   "source": [
    "d3.select(\"body\").append(\"p\").text(\"Our First Paragraph using D3!\");"
   ]
  },
  {
   "cell_type": "code",
   "execution_count": null,
   "metadata": {},
   "outputs": [],
   "source": [
    "var body = d3.select(\"body\");\n",
    "var div = body.append(\"div\");\n",
    "div.html(\"Hello, world!\");"
   ]
  },
  {
   "cell_type": "code",
   "execution_count": null,
   "metadata": {},
   "outputs": [],
   "source": [
    "var div = document.createElement(\"div\");\n",
    "div.innerHTML = \"Hello, world!\";\n",
    "document.body.appendChild(div);\n"
   ]
  },
  {
   "cell_type": "code",
   "execution_count": null,
   "metadata": {},
   "outputs": [],
   "source": [
    "$$.png(require(\"fs\").readFileSync(\"./test-images/rut_1.png\").toString(\"base64\"));"
   ]
  },
  {
   "cell_type": "code",
   "execution_count": null,
   "metadata": {
    "scrolled": true
   },
   "outputs": [],
   "source": [
    "$$png$$ = require(\"fs\").readFileSync(\"./test-images/rut_1.png\").toString(\"base64\");"
   ]
  },
  {
   "cell_type": "code",
   "execution_count": null,
   "metadata": {
    "scrolled": true
   },
   "outputs": [],
   "source": [
    "var image = Image(\"./test-images/rut_1.png\");"
   ]
  },
  {
   "cell_type": "code",
   "execution_count": null,
   "metadata": {
    "collapsed": true
   },
   "outputs": [],
   "source": [
    "$$png$$"
   ]
  },
  {
   "cell_type": "code",
   "execution_count": null,
   "metadata": {},
   "outputs": [],
   "source": [
    "var util = require('util')\n",
    "var greeting = util.format(\"Hello %s!\", \"GGG\");\n",
    "console.log(greeting)"
   ]
  },
  {
   "cell_type": "code",
   "execution_count": null,
   "metadata": {},
   "outputs": [],
   "source": [
    "$$svg$$ = \"<svg><rect width=80 height=80 style='fill: orange;'/></svg>\";"
   ]
  },
  {
   "cell_type": "code",
   "execution_count": null,
   "metadata": {
    "scrolled": true
   },
   "outputs": [],
   "source": [
    "$$svg$$ = \"<svg><rect width=100 height=100/></svg>\";"
   ]
  },
  {
   "cell_type": "code",
   "execution_count": null,
   "metadata": {
    "collapsed": true
   },
   "outputs": [],
   "source": []
  },
  {
   "cell_type": "code",
   "execution_count": null,
   "metadata": {},
   "outputs": [],
   "source": [
    "%module qr-image"
   ]
  },
  {
   "cell_type": "code",
   "execution_count": null,
   "metadata": {
    "scrolled": true
   },
   "outputs": [],
   "source": [
    "de = require(\"d3\")"
   ]
  },
  {
   "cell_type": "code",
   "execution_count": null,
   "metadata": {},
   "outputs": [],
   "source": [
    "\n",
    "var svg = d3.select(\"svg\"),\n",
    "    width = +svg.attr(\"width\"),\n",
    "    height = +svg.attr(\"height\");"
   ]
  },
  {
   "cell_type": "code",
   "execution_count": null,
   "metadata": {
    "collapsed": true
   },
   "outputs": [],
   "source": []
  }
 ],
 "metadata": {
  "kernelspec": {
   "display_name": "Javascript (Node.js)",
   "language": "javascript",
   "name": "javascript"
  },
  "language_info": {
   "file_extension": ".js",
   "mimetype": "application/javascript",
   "name": "javascript",
   "version": "6.11.2"
  }
 },
 "nbformat": 4,
 "nbformat_minor": 2
}
